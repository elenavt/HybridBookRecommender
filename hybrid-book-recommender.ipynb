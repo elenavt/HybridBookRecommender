{
 "cells": [
  {
   "cell_type": "markdown",
   "metadata": {
    "papermill": {
     "duration": 0.021366,
     "end_time": "2021-01-15T20:18:48.442880",
     "exception": false,
     "start_time": "2021-01-15T20:18:48.421514",
     "status": "completed"
    },
    "tags": []
   },
   "source": [
    "**Book Recommender System**\n",
    "\n",
    "I will build a hybrid book recommender system that combines content-based and collaborative filtering. I'm using Ruchi Bhatia's Book-crossing dataset and the LightFM package"
   ]
  },
  {
   "cell_type": "code",
   "execution_count": 1,
   "metadata": {
    "_cell_guid": "b1076dfc-b9ad-4769-8c92-a6c4dae69d19",
    "_uuid": "8f2839f25d086af736a60e9eeb907d3b93b6e0e5",
    "execution": {
     "iopub.execute_input": "2021-01-15T20:18:48.493003Z",
     "iopub.status.busy": "2021-01-15T20:18:48.491228Z",
     "iopub.status.idle": "2021-01-15T20:18:49.442747Z",
     "shell.execute_reply": "2021-01-15T20:18:49.443438Z"
    },
    "papermill": {
     "duration": 0.981212,
     "end_time": "2021-01-15T20:18:49.443640",
     "exception": false,
     "start_time": "2021-01-15T20:18:48.462428",
     "status": "completed"
    },
    "tags": []
   },
   "outputs": [],
   "source": [
    "#importing necessary packages\n",
    "import numpy as np \n",
    "import pandas as pd\n",
    "import pycountry\n",
    "import matplotlib.pyplot as plt\n",
    "from sklearn.preprocessing import MinMaxScaler\n",
    "from surprise import Dataset\n",
    "from surprise import Reader\n",
    "from surprise.model_selection import cross_validate\n",
    "from sklearn.model_selection import train_test_split\n",
    "from surprise import accuracy\n",
    "from lightfm import LightFM, cross_validation\n",
    "from lightfm.evaluation import precision_at_k\n",
    "from lightfm.evaluation import auc_score\n",
    "from lightfm.evaluation import recall_at_k\n",
    "from lightfm.evaluation import reciprocal_rank\n",
    "pd.options.mode.chained_assignment = None\n",
    "from scipy.sparse import coo_matrix\n",
    "from scipy.sparse import csr_matrix\n"
   ]
  },
  {
   "cell_type": "markdown",
   "metadata": {
    "papermill": {
     "duration": 0.029444,
     "end_time": "2021-01-15T20:18:49.504553",
     "exception": false,
     "start_time": "2021-01-15T20:18:49.475109",
     "status": "completed"
    },
    "tags": []
   },
   "source": [
    "1. Put each table of dataset in dataframe."
   ]
  },
  {
   "cell_type": "code",
   "execution_count": 2,
   "metadata": {
    "_cell_guid": "79c7e3d0-c299-4dcb-8224-4455121ee9b0",
    "_uuid": "d629ff2d2480ee46fbb7e2d37f6b5fab8052498a",
    "execution": {
     "iopub.execute_input": "2021-01-15T20:18:49.571384Z",
     "iopub.status.busy": "2021-01-15T20:18:49.570526Z",
     "iopub.status.idle": "2021-01-15T20:18:54.822753Z",
     "shell.execute_reply": "2021-01-15T20:18:54.822008Z"
    },
    "papermill": {
     "duration": 5.288947,
     "end_time": "2021-01-15T20:18:54.822912",
     "exception": false,
     "start_time": "2021-01-15T20:18:49.533965",
     "status": "completed"
    },
    "tags": []
   },
   "outputs": [],
   "source": [
    "user_c = ['u_id', 'country', 'age']\n",
    "users = pd.read_csv('../input/bookcrossing-dataset/Book reviews/BX-Users.csv', sep=';', names= user_c, encoding='latin-1',low_memory=False)\n",
    "\n",
    "books_c = ['isbn', 'title', 'author', 'year_of_publication', 'publisher', 'img1', 'img2', 'img3']\n",
    "books = pd.read_csv('../input/bookcrossing-dataset/Book reviews/BX_Books.csv', sep=';', names= books_c, encoding='latin-1',low_memory=False)\n",
    "\n",
    "ratings_c = ['u_id', 'isbn', 'rating']\n",
    "ratings = pd.read_csv('../input/bookcrossing-dataset/Book reviews/BX-Book-Ratings.csv', sep=';', names=ratings_c, encoding='latin-1',low_memory=False)\n"
   ]
  },
  {
   "cell_type": "markdown",
   "metadata": {
    "papermill": {
     "duration": 0.029572,
     "end_time": "2021-01-15T20:18:54.882561",
     "exception": false,
     "start_time": "2021-01-15T20:18:54.852989",
     "status": "completed"
    },
    "tags": []
   },
   "source": [
    "2. Get rid of all invalid data in frames and trim the countries column so that it contains...countries only. After that I need to delete all rows with user ages >90 and <5. Also drop image columns from books dataset.\n",
    "\n",
    "\n"
   ]
  },
  {
   "cell_type": "code",
   "execution_count": 3,
   "metadata": {
    "execution": {
     "iopub.execute_input": "2021-01-15T20:18:54.951859Z",
     "iopub.status.busy": "2021-01-15T20:18:54.951003Z",
     "iopub.status.idle": "2021-01-15T20:18:56.308844Z",
     "shell.execute_reply": "2021-01-15T20:18:56.309529Z"
    },
    "papermill": {
     "duration": 1.396956,
     "end_time": "2021-01-15T20:18:56.309701",
     "exception": false,
     "start_time": "2021-01-15T20:18:54.912745",
     "status": "completed"
    },
    "tags": []
   },
   "outputs": [],
   "source": [
    "temp = users['country'].str.split(',', 3, expand = True)\n",
    "users['country'] = temp[2]\n",
    "users.drop(users.head(1).index, inplace = True)"
   ]
  },
  {
   "cell_type": "code",
   "execution_count": 4,
   "metadata": {
    "execution": {
     "iopub.execute_input": "2021-01-15T20:18:56.376356Z",
     "iopub.status.busy": "2021-01-15T20:18:56.375543Z",
     "iopub.status.idle": "2021-01-15T20:18:57.477902Z",
     "shell.execute_reply": "2021-01-15T20:18:57.477222Z"
    },
    "papermill": {
     "duration": 1.13752,
     "end_time": "2021-01-15T20:18:57.478048",
     "exception": false,
     "start_time": "2021-01-15T20:18:56.340528",
     "status": "completed"
    },
    "tags": []
   },
   "outputs": [],
   "source": [
    "users.replace(to_replace = ['NaN', 'NaT'], value = np.nan, inplace = True)\n",
    "users.dropna(how= 'any', inplace = True)\n",
    "\n",
    "books.replace(to_replace = ['NaN', 'NaT'], value = np.nan, inplace = True)\n",
    "books.dropna(how= 'any', inplace = True)\n",
    "\n",
    "ratings.replace(to_replace = ['NaN', 'NaT'], value = np.nan, inplace = True)\n",
    "ratings.dropna(how= 'any', inplace = True)\n",
    "\n",
    "users.age = pd.to_numeric(users.age, errors = 'coerce').astype('Int64')\n",
    "users = users.loc[(users.age >5) & (users.age < 90)]"
   ]
  },
  {
   "cell_type": "code",
   "execution_count": 5,
   "metadata": {
    "execution": {
     "iopub.execute_input": "2021-01-15T20:18:57.545105Z",
     "iopub.status.busy": "2021-01-15T20:18:57.544032Z",
     "iopub.status.idle": "2021-01-15T20:18:57.644748Z",
     "shell.execute_reply": "2021-01-15T20:18:57.644035Z"
    },
    "papermill": {
     "duration": 0.136755,
     "end_time": "2021-01-15T20:18:57.644871",
     "exception": false,
     "start_time": "2021-01-15T20:18:57.508116",
     "status": "completed"
    },
    "tags": []
   },
   "outputs": [],
   "source": [
    "books.drop('img1', axis=1, inplace=True)\n",
    "books.drop('img2', axis=1, inplace=True)\n",
    "books.drop('img3', axis=1, inplace=True)"
   ]
  },
  {
   "cell_type": "code",
   "execution_count": 6,
   "metadata": {
    "execution": {
     "iopub.execute_input": "2021-01-15T20:18:57.710699Z",
     "iopub.status.busy": "2021-01-15T20:18:57.709874Z",
     "iopub.status.idle": "2021-01-15T20:18:57.853174Z",
     "shell.execute_reply": "2021-01-15T20:18:57.852296Z"
    },
    "papermill": {
     "duration": 0.177804,
     "end_time": "2021-01-15T20:18:57.853315",
     "exception": false,
     "start_time": "2021-01-15T20:18:57.675511",
     "status": "completed"
    },
    "tags": []
   },
   "outputs": [],
   "source": [
    "books.drop(books.head(1).index, inplace = True)\n",
    "ratings.drop(ratings.head(1).index, inplace = True)\n"
   ]
  },
  {
   "cell_type": "markdown",
   "metadata": {
    "papermill": {
     "duration": 0.030359,
     "end_time": "2021-01-15T20:18:57.914326",
     "exception": false,
     "start_time": "2021-01-15T20:18:57.883967",
     "status": "completed"
    },
    "tags": []
   },
   "source": [
    "3. Create a single matrix where each row is a user and each column is the rating they gave each book (0 if they haven't rated it). All ratings must be on (-1,1) scale."
   ]
  },
  {
   "cell_type": "code",
   "execution_count": 7,
   "metadata": {
    "execution": {
     "iopub.execute_input": "2021-01-15T20:18:57.980298Z",
     "iopub.status.busy": "2021-01-15T20:18:57.979643Z",
     "iopub.status.idle": "2021-01-15T20:18:58.606251Z",
     "shell.execute_reply": "2021-01-15T20:18:58.605525Z"
    },
    "papermill": {
     "duration": 0.662003,
     "end_time": "2021-01-15T20:18:58.606407",
     "exception": false,
     "start_time": "2021-01-15T20:18:57.944404",
     "status": "completed"
    },
    "tags": []
   },
   "outputs": [],
   "source": [
    "ratings2 = pd.merge(ratings, books, on = 'isbn')"
   ]
  },
  {
   "cell_type": "code",
   "execution_count": 8,
   "metadata": {
    "execution": {
     "iopub.execute_input": "2021-01-15T20:18:58.674524Z",
     "iopub.status.busy": "2021-01-15T20:18:58.673363Z",
     "iopub.status.idle": "2021-01-15T20:18:58.766958Z",
     "shell.execute_reply": "2021-01-15T20:18:58.766203Z"
    },
    "papermill": {
     "duration": 0.129464,
     "end_time": "2021-01-15T20:18:58.767094",
     "exception": false,
     "start_time": "2021-01-15T20:18:58.637630",
     "status": "completed"
    },
    "tags": []
   },
   "outputs": [],
   "source": [
    "del ratings2['author']\n",
    "del ratings2['year_of_publication']\n",
    "del ratings2['publisher']"
   ]
  },
  {
   "cell_type": "code",
   "execution_count": 9,
   "metadata": {
    "execution": {
     "iopub.execute_input": "2021-01-15T20:18:58.833658Z",
     "iopub.status.busy": "2021-01-15T20:18:58.832662Z",
     "iopub.status.idle": "2021-01-15T20:18:58.835609Z",
     "shell.execute_reply": "2021-01-15T20:18:58.836327Z"
    },
    "papermill": {
     "duration": 0.038472,
     "end_time": "2021-01-15T20:18:58.836468",
     "exception": false,
     "start_time": "2021-01-15T20:18:58.797996",
     "status": "completed"
    },
    "tags": []
   },
   "outputs": [],
   "source": [
    "ratings2 = ratings2[:50000]"
   ]
  },
  {
   "cell_type": "code",
   "execution_count": 10,
   "metadata": {
    "execution": {
     "iopub.execute_input": "2021-01-15T20:18:58.905978Z",
     "iopub.status.busy": "2021-01-15T20:18:58.905238Z",
     "iopub.status.idle": "2021-01-15T20:18:59.012020Z",
     "shell.execute_reply": "2021-01-15T20:18:59.012546Z"
    },
    "papermill": {
     "duration": 0.145303,
     "end_time": "2021-01-15T20:18:59.012698",
     "exception": false,
     "start_time": "2021-01-15T20:18:58.867395",
     "status": "completed"
    },
    "tags": []
   },
   "outputs": [],
   "source": [
    "scaler = MinMaxScaler(feature_range=(-1, 1)) #use scaler to fit the data\n",
    "temp = ratings2[['rating']]\n",
    "scaler.fit(temp)\n",
    "ratings2['rating'] = scaler.transform(temp)"
   ]
  },
  {
   "cell_type": "code",
   "execution_count": 11,
   "metadata": {
    "execution": {
     "iopub.execute_input": "2021-01-15T20:18:59.058315Z",
     "iopub.status.busy": "2021-01-15T20:18:59.057683Z",
     "iopub.status.idle": "2021-01-15T20:18:59.083524Z",
     "shell.execute_reply": "2021-01-15T20:18:59.082543Z"
    },
    "papermill": {
     "duration": 0.049965,
     "end_time": "2021-01-15T20:18:59.083641",
     "exception": false,
     "start_time": "2021-01-15T20:18:59.033676",
     "status": "completed"
    },
    "tags": []
   },
   "outputs": [
    {
     "data": {
      "text/html": [
       "<div>\n",
       "<style scoped>\n",
       "    .dataframe tbody tr th:only-of-type {\n",
       "        vertical-align: middle;\n",
       "    }\n",
       "\n",
       "    .dataframe tbody tr th {\n",
       "        vertical-align: top;\n",
       "    }\n",
       "\n",
       "    .dataframe thead th {\n",
       "        text-align: right;\n",
       "    }\n",
       "</style>\n",
       "<table border=\"1\" class=\"dataframe\">\n",
       "  <thead>\n",
       "    <tr style=\"text-align: right;\">\n",
       "      <th></th>\n",
       "      <th>u_id</th>\n",
       "      <th>isbn</th>\n",
       "      <th>rating</th>\n",
       "      <th>title</th>\n",
       "    </tr>\n",
       "  </thead>\n",
       "  <tbody>\n",
       "    <tr>\n",
       "      <th>0</th>\n",
       "      <td>276725</td>\n",
       "      <td>034545104X</td>\n",
       "      <td>-1.0</td>\n",
       "      <td>Flesh Tones: A Novel</td>\n",
       "    </tr>\n",
       "    <tr>\n",
       "      <th>1</th>\n",
       "      <td>2313</td>\n",
       "      <td>034545104X</td>\n",
       "      <td>0.0</td>\n",
       "      <td>Flesh Tones: A Novel</td>\n",
       "    </tr>\n",
       "    <tr>\n",
       "      <th>2</th>\n",
       "      <td>6543</td>\n",
       "      <td>034545104X</td>\n",
       "      <td>-1.0</td>\n",
       "      <td>Flesh Tones: A Novel</td>\n",
       "    </tr>\n",
       "    <tr>\n",
       "      <th>3</th>\n",
       "      <td>8680</td>\n",
       "      <td>034545104X</td>\n",
       "      <td>0.0</td>\n",
       "      <td>Flesh Tones: A Novel</td>\n",
       "    </tr>\n",
       "    <tr>\n",
       "      <th>4</th>\n",
       "      <td>10314</td>\n",
       "      <td>034545104X</td>\n",
       "      <td>0.8</td>\n",
       "      <td>Flesh Tones: A Novel</td>\n",
       "    </tr>\n",
       "    <tr>\n",
       "      <th>...</th>\n",
       "      <td>...</td>\n",
       "      <td>...</td>\n",
       "      <td>...</td>\n",
       "      <td>...</td>\n",
       "    </tr>\n",
       "    <tr>\n",
       "      <th>49995</th>\n",
       "      <td>277427</td>\n",
       "      <td>0345436911</td>\n",
       "      <td>-1.0</td>\n",
       "      <td>The Dress Lodger (Ballantine Reader's Circle)</td>\n",
       "    </tr>\n",
       "    <tr>\n",
       "      <th>49996</th>\n",
       "      <td>1167</td>\n",
       "      <td>0345436911</td>\n",
       "      <td>-1.0</td>\n",
       "      <td>The Dress Lodger (Ballantine Reader's Circle)</td>\n",
       "    </tr>\n",
       "    <tr>\n",
       "      <th>49997</th>\n",
       "      <td>6543</td>\n",
       "      <td>0345436911</td>\n",
       "      <td>0.6</td>\n",
       "      <td>The Dress Lodger (Ballantine Reader's Circle)</td>\n",
       "    </tr>\n",
       "    <tr>\n",
       "      <th>49998</th>\n",
       "      <td>8090</td>\n",
       "      <td>0345436911</td>\n",
       "      <td>-1.0</td>\n",
       "      <td>The Dress Lodger (Ballantine Reader's Circle)</td>\n",
       "    </tr>\n",
       "    <tr>\n",
       "      <th>49999</th>\n",
       "      <td>8253</td>\n",
       "      <td>0345436911</td>\n",
       "      <td>0.6</td>\n",
       "      <td>The Dress Lodger (Ballantine Reader's Circle)</td>\n",
       "    </tr>\n",
       "  </tbody>\n",
       "</table>\n",
       "<p>50000 rows × 4 columns</p>\n",
       "</div>"
      ],
      "text/plain": [
       "         u_id        isbn  rating  \\\n",
       "0      276725  034545104X    -1.0   \n",
       "1        2313  034545104X     0.0   \n",
       "2        6543  034545104X    -1.0   \n",
       "3        8680  034545104X     0.0   \n",
       "4       10314  034545104X     0.8   \n",
       "...       ...         ...     ...   \n",
       "49995  277427  0345436911    -1.0   \n",
       "49996    1167  0345436911    -1.0   \n",
       "49997    6543  0345436911     0.6   \n",
       "49998    8090  0345436911    -1.0   \n",
       "49999    8253  0345436911     0.6   \n",
       "\n",
       "                                               title  \n",
       "0                               Flesh Tones: A Novel  \n",
       "1                               Flesh Tones: A Novel  \n",
       "2                               Flesh Tones: A Novel  \n",
       "3                               Flesh Tones: A Novel  \n",
       "4                               Flesh Tones: A Novel  \n",
       "...                                              ...  \n",
       "49995  The Dress Lodger (Ballantine Reader's Circle)  \n",
       "49996  The Dress Lodger (Ballantine Reader's Circle)  \n",
       "49997  The Dress Lodger (Ballantine Reader's Circle)  \n",
       "49998  The Dress Lodger (Ballantine Reader's Circle)  \n",
       "49999  The Dress Lodger (Ballantine Reader's Circle)  \n",
       "\n",
       "[50000 rows x 4 columns]"
      ]
     },
     "execution_count": 11,
     "metadata": {},
     "output_type": "execute_result"
    }
   ],
   "source": [
    "ratings2"
   ]
  },
  {
   "cell_type": "code",
   "execution_count": 12,
   "metadata": {
    "execution": {
     "iopub.execute_input": "2021-01-15T20:18:59.138175Z",
     "iopub.status.busy": "2021-01-15T20:18:59.134523Z",
     "iopub.status.idle": "2021-01-15T20:19:01.004305Z",
     "shell.execute_reply": "2021-01-15T20:19:01.003711Z"
    },
    "papermill": {
     "duration": 1.898389,
     "end_time": "2021-01-15T20:19:01.004383",
     "exception": false,
     "start_time": "2021-01-15T20:18:59.105994",
     "status": "completed"
    },
    "tags": []
   },
   "outputs": [
    {
     "data": {
      "text/html": [
       "<div>\n",
       "<style scoped>\n",
       "    .dataframe tbody tr th:only-of-type {\n",
       "        vertical-align: middle;\n",
       "    }\n",
       "\n",
       "    .dataframe tbody tr th {\n",
       "        vertical-align: top;\n",
       "    }\n",
       "\n",
       "    .dataframe thead th {\n",
       "        text-align: right;\n",
       "    }\n",
       "</style>\n",
       "<table border=\"1\" class=\"dataframe\">\n",
       "  <thead>\n",
       "    <tr style=\"text-align: right;\">\n",
       "      <th>isbn</th>\n",
       "      <th>000225669X</th>\n",
       "      <th>0006379702</th>\n",
       "      <th>0006485294</th>\n",
       "      <th>0006543545</th>\n",
       "      <th>0020259700</th>\n",
       "      <th>0020847459</th>\n",
       "      <th>002542730X</th>\n",
       "      <th>0026217457</th>\n",
       "      <th>003008685X</th>\n",
       "      <th>0030615321</th>\n",
       "      <th>...</th>\n",
       "      <th>8838910987</th>\n",
       "      <th>884590184X</th>\n",
       "      <th>8880891766</th>\n",
       "      <th>950491036X</th>\n",
       "      <th>9508521481</th>\n",
       "      <th>9681500830</th>\n",
       "      <th>9722100718</th>\n",
       "      <th>9722509713</th>\n",
       "      <th>9726101794</th>\n",
       "      <th>9871138016</th>\n",
       "    </tr>\n",
       "    <tr>\n",
       "      <th>u_id</th>\n",
       "      <th></th>\n",
       "      <th></th>\n",
       "      <th></th>\n",
       "      <th></th>\n",
       "      <th></th>\n",
       "      <th></th>\n",
       "      <th></th>\n",
       "      <th></th>\n",
       "      <th></th>\n",
       "      <th></th>\n",
       "      <th></th>\n",
       "      <th></th>\n",
       "      <th></th>\n",
       "      <th></th>\n",
       "      <th></th>\n",
       "      <th></th>\n",
       "      <th></th>\n",
       "      <th></th>\n",
       "      <th></th>\n",
       "      <th></th>\n",
       "      <th></th>\n",
       "    </tr>\n",
       "  </thead>\n",
       "  <tbody>\n",
       "    <tr>\n",
       "      <th>100004</th>\n",
       "      <td>0.0</td>\n",
       "      <td>0.0</td>\n",
       "      <td>0.0</td>\n",
       "      <td>0.0</td>\n",
       "      <td>0.0</td>\n",
       "      <td>0</td>\n",
       "      <td>0.0</td>\n",
       "      <td>0.0</td>\n",
       "      <td>0.0</td>\n",
       "      <td>0.0</td>\n",
       "      <td>...</td>\n",
       "      <td>0.0</td>\n",
       "      <td>0.0</td>\n",
       "      <td>0.0</td>\n",
       "      <td>0.0</td>\n",
       "      <td>0</td>\n",
       "      <td>0.0</td>\n",
       "      <td>0.0</td>\n",
       "      <td>0.0</td>\n",
       "      <td>0.0</td>\n",
       "      <td>0.0</td>\n",
       "    </tr>\n",
       "    <tr>\n",
       "      <th>100009</th>\n",
       "      <td>0.0</td>\n",
       "      <td>0.0</td>\n",
       "      <td>0.0</td>\n",
       "      <td>0.0</td>\n",
       "      <td>0.0</td>\n",
       "      <td>0</td>\n",
       "      <td>0.0</td>\n",
       "      <td>0.0</td>\n",
       "      <td>0.0</td>\n",
       "      <td>0.0</td>\n",
       "      <td>...</td>\n",
       "      <td>0.0</td>\n",
       "      <td>0.0</td>\n",
       "      <td>0.0</td>\n",
       "      <td>0.0</td>\n",
       "      <td>0</td>\n",
       "      <td>0.0</td>\n",
       "      <td>0.0</td>\n",
       "      <td>0.0</td>\n",
       "      <td>0.0</td>\n",
       "      <td>0.0</td>\n",
       "    </tr>\n",
       "    <tr>\n",
       "      <th>10001</th>\n",
       "      <td>0.0</td>\n",
       "      <td>0.0</td>\n",
       "      <td>0.0</td>\n",
       "      <td>0.0</td>\n",
       "      <td>0.0</td>\n",
       "      <td>0</td>\n",
       "      <td>0.0</td>\n",
       "      <td>0.0</td>\n",
       "      <td>0.0</td>\n",
       "      <td>0.0</td>\n",
       "      <td>...</td>\n",
       "      <td>0.0</td>\n",
       "      <td>0.0</td>\n",
       "      <td>0.0</td>\n",
       "      <td>0.0</td>\n",
       "      <td>0</td>\n",
       "      <td>0.0</td>\n",
       "      <td>0.0</td>\n",
       "      <td>0.0</td>\n",
       "      <td>0.0</td>\n",
       "      <td>0.0</td>\n",
       "    </tr>\n",
       "    <tr>\n",
       "      <th>100010</th>\n",
       "      <td>0.0</td>\n",
       "      <td>0.0</td>\n",
       "      <td>0.0</td>\n",
       "      <td>0.0</td>\n",
       "      <td>0.0</td>\n",
       "      <td>0</td>\n",
       "      <td>0.0</td>\n",
       "      <td>0.0</td>\n",
       "      <td>0.0</td>\n",
       "      <td>0.0</td>\n",
       "      <td>...</td>\n",
       "      <td>0.0</td>\n",
       "      <td>0.0</td>\n",
       "      <td>0.0</td>\n",
       "      <td>0.0</td>\n",
       "      <td>0</td>\n",
       "      <td>0.0</td>\n",
       "      <td>0.0</td>\n",
       "      <td>0.0</td>\n",
       "      <td>0.0</td>\n",
       "      <td>0.0</td>\n",
       "    </tr>\n",
       "    <tr>\n",
       "      <th>100053</th>\n",
       "      <td>0.0</td>\n",
       "      <td>0.0</td>\n",
       "      <td>0.0</td>\n",
       "      <td>0.0</td>\n",
       "      <td>0.0</td>\n",
       "      <td>0</td>\n",
       "      <td>0.0</td>\n",
       "      <td>0.0</td>\n",
       "      <td>0.0</td>\n",
       "      <td>0.0</td>\n",
       "      <td>...</td>\n",
       "      <td>0.0</td>\n",
       "      <td>0.0</td>\n",
       "      <td>0.0</td>\n",
       "      <td>0.0</td>\n",
       "      <td>0</td>\n",
       "      <td>0.0</td>\n",
       "      <td>0.0</td>\n",
       "      <td>0.0</td>\n",
       "      <td>0.0</td>\n",
       "      <td>0.0</td>\n",
       "    </tr>\n",
       "    <tr>\n",
       "      <th>...</th>\n",
       "      <td>...</td>\n",
       "      <td>...</td>\n",
       "      <td>...</td>\n",
       "      <td>...</td>\n",
       "      <td>...</td>\n",
       "      <td>...</td>\n",
       "      <td>...</td>\n",
       "      <td>...</td>\n",
       "      <td>...</td>\n",
       "      <td>...</td>\n",
       "      <td>...</td>\n",
       "      <td>...</td>\n",
       "      <td>...</td>\n",
       "      <td>...</td>\n",
       "      <td>...</td>\n",
       "      <td>...</td>\n",
       "      <td>...</td>\n",
       "      <td>...</td>\n",
       "      <td>...</td>\n",
       "      <td>...</td>\n",
       "      <td>...</td>\n",
       "    </tr>\n",
       "    <tr>\n",
       "      <th>99946</th>\n",
       "      <td>0.0</td>\n",
       "      <td>0.0</td>\n",
       "      <td>0.0</td>\n",
       "      <td>0.0</td>\n",
       "      <td>0.0</td>\n",
       "      <td>0</td>\n",
       "      <td>0.0</td>\n",
       "      <td>0.0</td>\n",
       "      <td>0.0</td>\n",
       "      <td>0.0</td>\n",
       "      <td>...</td>\n",
       "      <td>0.0</td>\n",
       "      <td>0.0</td>\n",
       "      <td>0.0</td>\n",
       "      <td>0.0</td>\n",
       "      <td>0</td>\n",
       "      <td>0.0</td>\n",
       "      <td>0.0</td>\n",
       "      <td>0.0</td>\n",
       "      <td>0.0</td>\n",
       "      <td>0.0</td>\n",
       "    </tr>\n",
       "    <tr>\n",
       "      <th>99955</th>\n",
       "      <td>0.0</td>\n",
       "      <td>0.0</td>\n",
       "      <td>0.0</td>\n",
       "      <td>0.0</td>\n",
       "      <td>0.0</td>\n",
       "      <td>0</td>\n",
       "      <td>0.0</td>\n",
       "      <td>0.0</td>\n",
       "      <td>0.0</td>\n",
       "      <td>0.0</td>\n",
       "      <td>...</td>\n",
       "      <td>0.0</td>\n",
       "      <td>0.0</td>\n",
       "      <td>0.0</td>\n",
       "      <td>0.0</td>\n",
       "      <td>0</td>\n",
       "      <td>0.0</td>\n",
       "      <td>0.0</td>\n",
       "      <td>0.0</td>\n",
       "      <td>0.0</td>\n",
       "      <td>0.0</td>\n",
       "    </tr>\n",
       "    <tr>\n",
       "      <th>99980</th>\n",
       "      <td>0.0</td>\n",
       "      <td>0.0</td>\n",
       "      <td>0.0</td>\n",
       "      <td>0.0</td>\n",
       "      <td>0.0</td>\n",
       "      <td>0</td>\n",
       "      <td>0.0</td>\n",
       "      <td>0.0</td>\n",
       "      <td>0.0</td>\n",
       "      <td>0.0</td>\n",
       "      <td>...</td>\n",
       "      <td>0.0</td>\n",
       "      <td>0.0</td>\n",
       "      <td>0.0</td>\n",
       "      <td>0.0</td>\n",
       "      <td>0</td>\n",
       "      <td>0.0</td>\n",
       "      <td>0.0</td>\n",
       "      <td>0.0</td>\n",
       "      <td>0.0</td>\n",
       "      <td>0.0</td>\n",
       "    </tr>\n",
       "    <tr>\n",
       "      <th>99996</th>\n",
       "      <td>0.0</td>\n",
       "      <td>0.0</td>\n",
       "      <td>0.0</td>\n",
       "      <td>0.0</td>\n",
       "      <td>0.0</td>\n",
       "      <td>0</td>\n",
       "      <td>0.0</td>\n",
       "      <td>0.0</td>\n",
       "      <td>0.0</td>\n",
       "      <td>0.0</td>\n",
       "      <td>...</td>\n",
       "      <td>0.0</td>\n",
       "      <td>0.0</td>\n",
       "      <td>0.0</td>\n",
       "      <td>0.0</td>\n",
       "      <td>0</td>\n",
       "      <td>0.0</td>\n",
       "      <td>0.0</td>\n",
       "      <td>0.0</td>\n",
       "      <td>0.0</td>\n",
       "      <td>0.0</td>\n",
       "    </tr>\n",
       "    <tr>\n",
       "      <th>99997</th>\n",
       "      <td>0.0</td>\n",
       "      <td>0.0</td>\n",
       "      <td>0.0</td>\n",
       "      <td>0.0</td>\n",
       "      <td>0.0</td>\n",
       "      <td>0</td>\n",
       "      <td>0.0</td>\n",
       "      <td>0.0</td>\n",
       "      <td>0.0</td>\n",
       "      <td>0.0</td>\n",
       "      <td>...</td>\n",
       "      <td>0.0</td>\n",
       "      <td>0.0</td>\n",
       "      <td>0.0</td>\n",
       "      <td>0.0</td>\n",
       "      <td>0</td>\n",
       "      <td>0.0</td>\n",
       "      <td>0.0</td>\n",
       "      <td>0.0</td>\n",
       "      <td>0.0</td>\n",
       "      <td>0.0</td>\n",
       "    </tr>\n",
       "  </tbody>\n",
       "</table>\n",
       "<p>18795 rows × 1207 columns</p>\n",
       "</div>"
      ],
      "text/plain": [
       "isbn    000225669X  0006379702  0006485294  0006543545  0020259700  \\\n",
       "u_id                                                                 \n",
       "100004         0.0         0.0         0.0         0.0         0.0   \n",
       "100009         0.0         0.0         0.0         0.0         0.0   \n",
       "10001          0.0         0.0         0.0         0.0         0.0   \n",
       "100010         0.0         0.0         0.0         0.0         0.0   \n",
       "100053         0.0         0.0         0.0         0.0         0.0   \n",
       "...            ...         ...         ...         ...         ...   \n",
       "99946          0.0         0.0         0.0         0.0         0.0   \n",
       "99955          0.0         0.0         0.0         0.0         0.0   \n",
       "99980          0.0         0.0         0.0         0.0         0.0   \n",
       "99996          0.0         0.0         0.0         0.0         0.0   \n",
       "99997          0.0         0.0         0.0         0.0         0.0   \n",
       "\n",
       "isbn    0020847459  002542730X  0026217457  003008685X  0030615321  ...  \\\n",
       "u_id                                                                ...   \n",
       "100004           0         0.0         0.0         0.0         0.0  ...   \n",
       "100009           0         0.0         0.0         0.0         0.0  ...   \n",
       "10001            0         0.0         0.0         0.0         0.0  ...   \n",
       "100010           0         0.0         0.0         0.0         0.0  ...   \n",
       "100053           0         0.0         0.0         0.0         0.0  ...   \n",
       "...            ...         ...         ...         ...         ...  ...   \n",
       "99946            0         0.0         0.0         0.0         0.0  ...   \n",
       "99955            0         0.0         0.0         0.0         0.0  ...   \n",
       "99980            0         0.0         0.0         0.0         0.0  ...   \n",
       "99996            0         0.0         0.0         0.0         0.0  ...   \n",
       "99997            0         0.0         0.0         0.0         0.0  ...   \n",
       "\n",
       "isbn    8838910987  884590184X  8880891766  950491036X  9508521481  \\\n",
       "u_id                                                                 \n",
       "100004         0.0         0.0         0.0         0.0           0   \n",
       "100009         0.0         0.0         0.0         0.0           0   \n",
       "10001          0.0         0.0         0.0         0.0           0   \n",
       "100010         0.0         0.0         0.0         0.0           0   \n",
       "100053         0.0         0.0         0.0         0.0           0   \n",
       "...            ...         ...         ...         ...         ...   \n",
       "99946          0.0         0.0         0.0         0.0           0   \n",
       "99955          0.0         0.0         0.0         0.0           0   \n",
       "99980          0.0         0.0         0.0         0.0           0   \n",
       "99996          0.0         0.0         0.0         0.0           0   \n",
       "99997          0.0         0.0         0.0         0.0           0   \n",
       "\n",
       "isbn    9681500830  9722100718  9722509713  9726101794  9871138016  \n",
       "u_id                                                                \n",
       "100004         0.0         0.0         0.0         0.0         0.0  \n",
       "100009         0.0         0.0         0.0         0.0         0.0  \n",
       "10001          0.0         0.0         0.0         0.0         0.0  \n",
       "100010         0.0         0.0         0.0         0.0         0.0  \n",
       "100053         0.0         0.0         0.0         0.0         0.0  \n",
       "...            ...         ...         ...         ...         ...  \n",
       "99946          0.0         0.0         0.0         0.0         0.0  \n",
       "99955          0.0         0.0         0.0         0.0         0.0  \n",
       "99980          0.0         0.0         0.0         0.0         0.0  \n",
       "99996          0.0         0.0         0.0         0.0         0.0  \n",
       "99997          0.0         0.0         0.0         0.0         0.0  \n",
       "\n",
       "[18795 rows x 1207 columns]"
      ]
     },
     "execution_count": 12,
     "metadata": {},
     "output_type": "execute_result"
    }
   ],
   "source": [
    "b_ratings = pd.pivot_table(ratings2, index='u_id', values='rating', columns='isbn', fill_value=0)\n",
    "b_ratings"
   ]
  },
  {
   "cell_type": "code",
   "execution_count": 13,
   "metadata": {
    "execution": {
     "iopub.execute_input": "2021-01-15T20:19:01.040247Z",
     "iopub.status.busy": "2021-01-15T20:19:01.039816Z",
     "iopub.status.idle": "2021-01-15T20:19:01.369247Z",
     "shell.execute_reply": "2021-01-15T20:19:01.368793Z"
    },
    "papermill": {
     "duration": 0.349027,
     "end_time": "2021-01-15T20:19:01.369327",
     "exception": false,
     "start_time": "2021-01-15T20:19:01.020300",
     "status": "completed"
    },
    "tags": []
   },
   "outputs": [],
   "source": [
    "#convert b_rating into csr matrix\n",
    "b_ratings_csr = csr_matrix(b_ratings.values)"
   ]
  },
  {
   "cell_type": "code",
   "execution_count": 14,
   "metadata": {
    "execution": {
     "iopub.execute_input": "2021-01-15T20:19:01.407819Z",
     "iopub.status.busy": "2021-01-15T20:19:01.407405Z",
     "iopub.status.idle": "2021-01-15T20:19:02.506676Z",
     "shell.execute_reply": "2021-01-15T20:19:02.506169Z"
    },
    "papermill": {
     "duration": 1.121372,
     "end_time": "2021-01-15T20:19:02.506774",
     "exception": false,
     "start_time": "2021-01-15T20:19:01.385402",
     "status": "completed"
    },
    "tags": []
   },
   "outputs": [],
   "source": [
    "book_dict = {}\n",
    "df = ratings2[['isbn', 'title']].sort_values('isbn').reset_index()\n",
    "for i in range(df.shape[0]):\n",
    "    book_dict[(df.loc[i,'isbn'])] = df.loc[i,'title']"
   ]
  },
  {
   "cell_type": "code",
   "execution_count": 15,
   "metadata": {
    "execution": {
     "iopub.execute_input": "2021-01-15T20:19:02.572844Z",
     "iopub.status.busy": "2021-01-15T20:19:02.571985Z",
     "iopub.status.idle": "2021-01-15T20:19:02.574527Z",
     "shell.execute_reply": "2021-01-15T20:19:02.573834Z"
    },
    "papermill": {
     "duration": 0.0435,
     "end_time": "2021-01-15T20:19:02.574670",
     "exception": false,
     "start_time": "2021-01-15T20:19:02.531170",
     "status": "completed"
    },
    "tags": []
   },
   "outputs": [],
   "source": [
    "user_dict = {}\n",
    "user_ids = list(b_ratings.index)\n",
    "counter = 0\n",
    "for user_id in user_ids:\n",
    "    user_dict[user_id] = counter\n",
    "    counter +=1"
   ]
  },
  {
   "cell_type": "markdown",
   "metadata": {
    "papermill": {
     "duration": 0.034113,
     "end_time": "2021-01-15T20:19:02.643561",
     "exception": false,
     "start_time": "2021-01-15T20:19:02.609448",
     "status": "completed"
    },
    "tags": []
   },
   "source": [
    "4. Import LightFM package and initialize model. Split b_ratings matrix into train and validation sets. Before introducing user and item feature matrices, this model should perform as well as any Matrix Factorization Model."
   ]
  },
  {
   "cell_type": "code",
   "execution_count": 16,
   "metadata": {
    "execution": {
     "iopub.execute_input": "2021-01-15T20:19:02.717468Z",
     "iopub.status.busy": "2021-01-15T20:19:02.716628Z",
     "iopub.status.idle": "2021-01-15T20:19:02.719481Z",
     "shell.execute_reply": "2021-01-15T20:19:02.718795Z"
    },
    "papermill": {
     "duration": 0.041855,
     "end_time": "2021-01-15T20:19:02.719608",
     "exception": false,
     "start_time": "2021-01-15T20:19:02.677753",
     "status": "completed"
    },
    "tags": []
   },
   "outputs": [],
   "source": [
    "model = LightFM(loss = 'logistic')"
   ]
  },
  {
   "cell_type": "code",
   "execution_count": 17,
   "metadata": {
    "execution": {
     "iopub.execute_input": "2021-01-15T20:19:02.793827Z",
     "iopub.status.busy": "2021-01-15T20:19:02.793005Z",
     "iopub.status.idle": "2021-01-15T20:19:02.800552Z",
     "shell.execute_reply": "2021-01-15T20:19:02.799858Z"
    },
    "papermill": {
     "duration": 0.046449,
     "end_time": "2021-01-15T20:19:02.800685",
     "exception": false,
     "start_time": "2021-01-15T20:19:02.754236",
     "status": "completed"
    },
    "tags": []
   },
   "outputs": [],
   "source": [
    "train, test = cross_validation.random_train_test_split(b_ratings_csr, test_percentage=0.25)"
   ]
  },
  {
   "cell_type": "code",
   "execution_count": 18,
   "metadata": {
    "execution": {
     "iopub.execute_input": "2021-01-15T20:19:02.873324Z",
     "iopub.status.busy": "2021-01-15T20:19:02.872519Z",
     "iopub.status.idle": "2021-01-15T20:19:03.437653Z",
     "shell.execute_reply": "2021-01-15T20:19:03.436792Z"
    },
    "papermill": {
     "duration": 0.602176,
     "end_time": "2021-01-15T20:19:03.437785",
     "exception": false,
     "start_time": "2021-01-15T20:19:02.835609",
     "status": "completed"
    },
    "tags": []
   },
   "outputs": [
    {
     "data": {
      "text/plain": [
       "<lightfm.lightfm.LightFM at 0x7f4e0bdd7250>"
      ]
     },
     "execution_count": 18,
     "metadata": {},
     "output_type": "execute_result"
    }
   ],
   "source": [
    "model.fit(train, epochs = 30) #user and item feature matrices would be included here"
   ]
  },
  {
   "cell_type": "markdown",
   "metadata": {
    "papermill": {
     "duration": 0.035332,
     "end_time": "2021-01-15T20:19:03.510110",
     "exception": false,
     "start_time": "2021-01-15T20:19:03.474778",
     "status": "completed"
    },
    "tags": []
   },
   "source": [
    "Create a function to get sample predictions (based on sample recommendation function shown in [this article](http://https://towardsdatascience.com/recommendation-system-in-python-lightfm-61c85010ce17))"
   ]
  },
  {
   "cell_type": "code",
   "execution_count": 19,
   "metadata": {
    "execution": {
     "iopub.execute_input": "2021-01-15T20:19:03.584185Z",
     "iopub.status.busy": "2021-01-15T20:19:03.583355Z",
     "iopub.status.idle": "2021-01-15T20:19:03.592267Z",
     "shell.execute_reply": "2021-01-15T20:19:03.592720Z"
    },
    "papermill": {
     "duration": 0.047163,
     "end_time": "2021-01-15T20:19:03.592854",
     "exception": false,
     "start_time": "2021-01-15T20:19:03.545691",
     "status": "completed"
    },
    "tags": []
   },
   "outputs": [],
   "source": [
    "def test_predictions(model, data, user_ids, rating_threshold, num_pred, book_dict, user_dict):\n",
    "    num_users, num_items = data.shape\n",
    "    \n",
    "    for user_id in user_ids:\n",
    "        u_id = user_dict[user_id]\n",
    "        scores = pd.Series(model.predict(u_id, np.arange(num_items),item_features=None, user_features=None, num_threads=1))\n",
    "        scores.index = data.columns\n",
    "        scores = list(pd.Series(scores.sort_values(ascending=False).index))\n",
    "        known_items = list((pd.Series(b_ratings.loc[user_id,:][b_ratings.loc[user_id,:] > (rating_threshold)]).index).sort_values(ascending=False))\n",
    "        scores = [x for x in scores if x not in known_items]\n",
    "        return_score_list = scores[0:num_pred]\n",
    "        known_items = list(pd.Series(known_items).apply(lambda x: book_dict[x]))\n",
    "        scores = list(pd.Series(return_score_list).apply(lambda x: book_dict[x]))\n",
    "        known_likes = known_items[0:num_pred]\n",
    "        print (\"User: \" + str(user_id))\n",
    "        print(\"Known Likes:\")\n",
    "        counter = 1\n",
    "        for i in known_likes:\n",
    "            print(str(counter) + '- ' + i)\n",
    "            counter+=1\n",
    "        print(\"\\n Recommended Items:\")\n",
    "        counter = 1\n",
    "        for i in scores:\n",
    "            print(str(counter) + '- ' + i)\n",
    "            counter+=1"
   ]
  },
  {
   "cell_type": "markdown",
   "metadata": {
    "papermill": {
     "duration": 0.024819,
     "end_time": "2021-01-15T20:19:03.643523",
     "exception": false,
     "start_time": "2021-01-15T20:19:03.618704",
     "status": "completed"
    },
    "tags": []
   },
   "source": [
    "Test some user IDs."
   ]
  },
  {
   "cell_type": "code",
   "execution_count": 20,
   "metadata": {
    "execution": {
     "iopub.execute_input": "2021-01-15T20:19:03.697627Z",
     "iopub.status.busy": "2021-01-15T20:19:03.696449Z",
     "iopub.status.idle": "2021-01-15T20:19:03.766419Z",
     "shell.execute_reply": "2021-01-15T20:19:03.767236Z"
    },
    "papermill": {
     "duration": 0.09895,
     "end_time": "2021-01-15T20:19:03.767397",
     "exception": false,
     "start_time": "2021-01-15T20:19:03.668447",
     "status": "completed"
    },
    "tags": []
   },
   "outputs": [
    {
     "name": "stdout",
     "output_type": "stream",
     "text": [
      "User: 100904\n",
      "Known Likes:\n",
      "\n",
      " Recommended Items:\n",
      "1- To Kill a Mockingbird\n",
      "2- The Lovely Bones: A Novel\n",
      "3- The Hobbit : The Enchanting Prelude to The Lord of the Rings\n",
      "4- The Joy Luck Club\n",
      "5- Marching Through Culpeper : A Novel of Culpeper, Virginia, Crossroads of the Civil War\n",
      "User: 100906\n",
      "Known Likes:\n",
      "1- The Stars My Destination\n",
      "2- The Alienist\n",
      "3- A Wizard of Earthsea (Earthsea Trilogy, Book 1)\n",
      "4- Alice's Adventures in Wonderland and Through the Looking Glass\n",
      "5- Harry Potter and the Order of the Phoenix (Book 5)\n",
      "\n",
      " Recommended Items:\n",
      "1- A Painted House\n",
      "2- The Red Tent (Bestselling Backlist)\n",
      "3- Girl, Interrupted\n",
      "4- She's Come Undone (Oprah's Book Club)\n",
      "5- Jack & Jill (Alex Cross Novels)\n",
      "User: 100925\n",
      "Known Likes:\n",
      "\n",
      " Recommended Items:\n",
      "1- Marching Through Culpeper : A Novel of Culpeper, Virginia, Crossroads of the Civil War\n",
      "2- Harry Potter and the Chamber of Secrets (Book 2)\n",
      "3- Bad Business\n",
      "4- To Kill a Mockingbird\n",
      "5- The Red Tent (Bestselling Backlist)\n",
      "User: 100984\n",
      "Known Likes:\n",
      "\n",
      " Recommended Items:\n",
      "1- Marching Through Culpeper : A Novel of Culpeper, Virginia, Crossroads of the Civil War\n",
      "2- Harry Potter and the Chamber of Secrets (Book 2)\n",
      "3- The Hobbit : The Enchanting Prelude to The Lord of the Rings\n",
      "4- Harry Potter and the Order of the Phoenix (Book 5)\n",
      "5- Harry Potter Und Der Feuerkelch\n",
      "User: 100995\n",
      "Known Likes:\n",
      "\n",
      " Recommended Items:\n",
      "1- Marching Through Culpeper : A Novel of Culpeper, Virginia, Crossroads of the Civil War\n",
      "2- Harry Potter and the Order of the Phoenix (Book 5)\n",
      "3- Harry Potter and the Chamber of Secrets (Book 2)\n",
      "4- Bad Business\n",
      "5- Relato de un nÃ¡ufrago\n",
      "User: 101027\n",
      "Known Likes:\n",
      "\n",
      " Recommended Items:\n",
      "1- A Painted House\n",
      "2- Marching Through Culpeper : A Novel of Culpeper, Virginia, Crossroads of the Civil War\n",
      "3- Balzac and the Little Chinese Seamstress\n",
      "4- Girl, Interrupted\n",
      "5- The Vagina Monologues: The V-Day Edition\n",
      "User: 101029\n",
      "Known Likes:\n",
      "1- The Joy Luck Club\n",
      "\n",
      " Recommended Items:\n",
      "1- Marching Through Culpeper : A Novel of Culpeper, Virginia, Crossroads of the Civil War\n",
      "2- Bad Business\n",
      "3- Relato de un nÃ¡ufrago\n",
      "4- Harry Potter Und Der Feuerkelch\n",
      "5- The Vagina Monologues: The V-Day Edition\n",
      "User: 101035\n",
      "Known Likes:\n",
      "\n",
      " Recommended Items:\n",
      "1- Marching Through Culpeper : A Novel of Culpeper, Virginia, Crossroads of the Civil War\n",
      "2- To Kill a Mockingbird\n",
      "3- Harry Potter and the Chamber of Secrets (Book 2)\n",
      "4- The Red Tent (Bestselling Backlist)\n",
      "5- Bad Business\n"
     ]
    },
    {
     "name": "stderr",
     "output_type": "stream",
     "text": [
      "/opt/conda/lib/python3.7/site-packages/ipykernel_launcher.py:12: DeprecationWarning: The default dtype for empty Series will be 'object' instead of 'float64' in a future version. Specify a dtype explicitly to silence this warning.\n",
      "  if sys.path[0] == '':\n",
      "/opt/conda/lib/python3.7/site-packages/ipykernel_launcher.py:12: DeprecationWarning: The default dtype for empty Series will be 'object' instead of 'float64' in a future version. Specify a dtype explicitly to silence this warning.\n",
      "  if sys.path[0] == '':\n",
      "/opt/conda/lib/python3.7/site-packages/ipykernel_launcher.py:12: DeprecationWarning: The default dtype for empty Series will be 'object' instead of 'float64' in a future version. Specify a dtype explicitly to silence this warning.\n",
      "  if sys.path[0] == '':\n",
      "/opt/conda/lib/python3.7/site-packages/ipykernel_launcher.py:12: DeprecationWarning: The default dtype for empty Series will be 'object' instead of 'float64' in a future version. Specify a dtype explicitly to silence this warning.\n",
      "  if sys.path[0] == '':\n",
      "/opt/conda/lib/python3.7/site-packages/ipykernel_launcher.py:12: DeprecationWarning: The default dtype for empty Series will be 'object' instead of 'float64' in a future version. Specify a dtype explicitly to silence this warning.\n",
      "  if sys.path[0] == '':\n",
      "/opt/conda/lib/python3.7/site-packages/ipykernel_launcher.py:12: DeprecationWarning: The default dtype for empty Series will be 'object' instead of 'float64' in a future version. Specify a dtype explicitly to silence this warning.\n",
      "  if sys.path[0] == '':\n"
     ]
    }
   ],
   "source": [
    "test_predictions(model, b_ratings, ['100904','100906','100925','100984','100995','101027','101029','101035'], 0, 5, book_dict, user_dict)"
   ]
  },
  {
   "cell_type": "markdown",
   "metadata": {
    "papermill": {
     "duration": 0.037348,
     "end_time": "2021-01-15T20:19:03.842437",
     "exception": false,
     "start_time": "2021-01-15T20:19:03.805089",
     "status": "completed"
    },
    "tags": []
   },
   "source": [
    "5. I will measure the accuracy of the model as-is with LightFM's model evaluation functions."
   ]
  },
  {
   "cell_type": "code",
   "execution_count": 21,
   "metadata": {
    "execution": {
     "iopub.execute_input": "2021-01-15T20:19:03.923314Z",
     "iopub.status.busy": "2021-01-15T20:19:03.922491Z",
     "iopub.status.idle": "2021-01-15T20:19:05.538025Z",
     "shell.execute_reply": "2021-01-15T20:19:05.537310Z"
    },
    "papermill": {
     "duration": 1.658671,
     "end_time": "2021-01-15T20:19:05.538192",
     "exception": false,
     "start_time": "2021-01-15T20:19:03.879521",
     "status": "completed"
    },
    "tags": []
   },
   "outputs": [],
   "source": [
    "model_precision_at_k = precision_at_k(model, test,train, k=100).mean()\n",
    "model_recall_at_k = recall_at_k(model, test,train, k=100).mean()\n",
    "model_auc_score = auc_score(model, test, train).mean()\n",
    "model_reciprocal_rank = reciprocal_rank(model, test, train).mean()"
   ]
  },
  {
   "cell_type": "code",
   "execution_count": 22,
   "metadata": {
    "execution": {
     "iopub.execute_input": "2021-01-15T20:19:05.620887Z",
     "iopub.status.busy": "2021-01-15T20:19:05.620031Z",
     "iopub.status.idle": "2021-01-15T20:19:05.626451Z",
     "shell.execute_reply": "2021-01-15T20:19:05.625589Z"
    },
    "papermill": {
     "duration": 0.050279,
     "end_time": "2021-01-15T20:19:05.626581",
     "exception": false,
     "start_time": "2021-01-15T20:19:05.576302",
     "status": "completed"
    },
    "tags": []
   },
   "outputs": [
    {
     "name": "stdout",
     "output_type": "stream",
     "text": [
      "model precision at k = 100 : 0.0026067875/1\n",
      "model recall at k = 100 : 0.12826275983228116/1\n",
      "model AUC score : 0.42703477/1\n",
      "model average reciprocal rank : 0.03904833/1\n"
     ]
    }
   ],
   "source": [
    "print('model precision at k = 100 : '+ str(model_precision_at_k) +'/1')\n",
    "print('model recall at k = 100 : '+ str(model_recall_at_k)+'/1')\n",
    "print('model AUC score : ' + str(model_auc_score)+'/1')\n",
    "print('model average reciprocal rank : ' + str(model_reciprocal_rank)+'/1')"
   ]
  },
  {
   "cell_type": "markdown",
   "metadata": {
    "papermill": {
     "duration": 0.037604,
     "end_time": "2021-01-15T20:19:05.703553",
     "exception": false,
     "start_time": "2021-01-15T20:19:05.665949",
     "status": "completed"
    },
    "tags": []
   },
   "source": [
    "6. Create user feature matrix"
   ]
  },
  {
   "cell_type": "markdown",
   "metadata": {
    "papermill": {
     "duration": 0.037533,
     "end_time": "2021-01-15T20:19:05.778607",
     "exception": false,
     "start_time": "2021-01-15T20:19:05.741074",
     "status": "completed"
    },
    "tags": []
   },
   "source": [
    "7. Create item feature matrix"
   ]
  },
  {
   "cell_type": "markdown",
   "metadata": {
    "papermill": {
     "duration": 0.038348,
     "end_time": "2021-01-15T20:19:05.855053",
     "exception": false,
     "start_time": "2021-01-15T20:19:05.816705",
     "status": "completed"
    },
    "tags": []
   },
   "source": [
    "8. Make predictions using these features"
   ]
  },
  {
   "cell_type": "markdown",
   "metadata": {
    "papermill": {
     "duration": 0.037919,
     "end_time": "2021-01-15T20:19:05.931528",
     "exception": false,
     "start_time": "2021-01-15T20:19:05.893609",
     "status": "completed"
    },
    "tags": []
   },
   "source": [
    "9.Measure accuracy of current model"
   ]
  }
 ],
 "metadata": {
  "kernelspec": {
   "display_name": "Python 3",
   "language": "python",
   "name": "python3"
  },
  "language_info": {
   "codemirror_mode": {
    "name": "ipython",
    "version": 3
   },
   "file_extension": ".py",
   "mimetype": "text/x-python",
   "name": "python",
   "nbconvert_exporter": "python",
   "pygments_lexer": "ipython3",
   "version": "3.7.6"
  },
  "papermill": {
   "duration": 22.806416,
   "end_time": "2021-01-15T20:19:07.077636",
   "environment_variables": {},
   "exception": null,
   "input_path": "__notebook__.ipynb",
   "output_path": "__notebook__.ipynb",
   "parameters": {},
   "start_time": "2021-01-15T20:18:44.271220",
   "version": "2.1.0"
  }
 },
 "nbformat": 4,
 "nbformat_minor": 4
}
